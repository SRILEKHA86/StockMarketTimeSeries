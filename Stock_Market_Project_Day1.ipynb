{
  "nbformat": 4,
  "nbformat_minor": 0,
  "metadata": {
    "colab": {
      "private_outputs": true,
      "provenance": []
    },
    "kernelspec": {
      "name": "python3",
      "display_name": "Python 3"
    },
    "language_info": {
      "name": "python"
    }
  },
  "cells": [
    {
      "cell_type": "code",
      "execution_count": null,
      "metadata": {
        "id": "MxmTyzndW3h8"
      },
      "outputs": [],
      "source": [
        "!pip install yfinance prophet\n"
      ]
    },
    {
      "cell_type": "code",
      "source": [
        "import yfinance as yf\n",
        "import matplotlib.pyplot as plt\n"
      ],
      "metadata": {
        "id": "KfDVWfRQ12ag"
      },
      "execution_count": null,
      "outputs": []
    },
    {
      "cell_type": "code",
      "source": [
        "# Download TCS stock data from 2020 to 2024\n",
        "data = yf.download('TCS.NS', start='2020-01-01', end='2024-01-01')\n"
      ],
      "metadata": {
        "id": "dXUKKQtf12iH"
      },
      "execution_count": null,
      "outputs": []
    },
    {
      "cell_type": "code",
      "source": [
        "plt.figure(figsize=(10,5))  # figure size\n",
        "plt.plot(data['Close'])     # Close price plot\n",
        "plt.title('TCS Close Price (2020-2024)')\n",
        "plt.xlabel('Date')\n",
        "plt.ylabel('Price (INR)')\n",
        "plt.grid()\n",
        "plt.show()\n"
      ],
      "metadata": {
        "id": "wgfJWQM812lE"
      },
      "execution_count": null,
      "outputs": []
    },
    {
      "cell_type": "code",
      "source": [
        "print(data.isnull().sum())\n"
      ],
      "metadata": {
        "id": "0-D19MMj26G3"
      },
      "execution_count": null,
      "outputs": []
    },
    {
      "cell_type": "code",
      "source": [
        "plt.figure(figsize=(10,5))\n",
        "plt.plot(data['Close'], label='Close Price')\n",
        "plt.plot(data['Close'].rolling(30).mean(), label='30-Day Moving Average', color='orange')\n",
        "plt.title('TCS Close Price with 30-Day Moving Average')\n",
        "plt.xlabel('Date')\n",
        "plt.ylabel('Price (INR)')\n",
        "plt.legend()\n",
        "plt.grid()\n",
        "plt.show()\n"
      ],
      "metadata": {
        "id": "qAVXIbcd2_pt"
      },
      "execution_count": null,
      "outputs": []
    }
  ]
}